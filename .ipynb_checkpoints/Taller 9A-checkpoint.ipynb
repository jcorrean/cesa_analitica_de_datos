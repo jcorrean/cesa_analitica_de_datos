{
 "cells": [
  {
   "cell_type": "code",
   "execution_count": null,
   "id": "c6a43f4a",
   "metadata": {},
   "outputs": [],
   "source": [
    "import numpy as np\n",
    "from scipy import stats\n",
    "import pandas as pd\n",
    "import seaborn as sns\n",
    "import matplotlib.pyplot as plt\n",
    "sns.set(style=\"white\")"
   ]
  },
  {
   "cell_type": "code",
   "execution_count": null,
   "id": "bcb82c0e",
   "metadata": {},
   "outputs": [],
   "source": [
    "iris = sns.load_dataset(\"iris\")\n",
    "g = sns.PairGrid(iris)\n",
    "g.map_diag(sns.histplot)\n",
    "g.map_offdiag(sns.scatterplot)"
   ]
  },
  {
   "cell_type": "markdown",
   "id": "2a30c277",
   "metadata": {},
   "source": [
    "En el gráfico anterior hay cuatro histogramas. El primero es para la variable \"sepal_length\". El segundo para \"sepal_width\". El tercero para \"petal_length\" y el último para \"petal_width\". Por arriba de los histogramas se observa el [diagrama de dispersión](https://es.wikipedia.org/wiki/Diagrama_de_dispersi%C3%B3n) (o scattergram como se le conoce en inglés). Observe que estos diagramas de dispersión tienen una \"imagen espejo\" por debajo de los histogramas también. Para evitar esta redundancia, vamos a modificar un poco el gráfico anterior y vamos a meterle los diagramas de kernel y el valor de la correlación entre las variables."
   ]
  },
  {
   "cell_type": "code",
   "execution_count": null,
   "id": "289bb01b",
   "metadata": {},
   "outputs": [],
   "source": [
    "from scipy.stats import pearsonr\n",
    "import matplotlib.pyplot as plt \n",
    "\n",
    "def corrfunc(x, y, ax=None, **kws):\n",
    "    \"\"\"Plot the correlation coefficient in the top left hand corner of a plot.\"\"\"\n",
    "    r, _ = pearsonr(x, y)\n",
    "    ax = ax or plt.gca()\n",
    "    ax.annotate(f'r = {r:.2f}', xy=(.1, .9), xycoords=ax.transAxes)"
   ]
  },
  {
   "cell_type": "code",
   "execution_count": null,
   "id": "a5e9b134",
   "metadata": {},
   "outputs": [],
   "source": [
    "g = sns.PairGrid(iris, palette=[\"red\"])\n",
    "g.map_upper(plt.scatter, s=10)\n",
    "g.map_diag(sns.distplot, kde=False)\n",
    "g.map_lower(corrfunc)\n",
    "g.map_lower(sns.kdeplot, cmap=\"Blues_d\")"
   ]
  },
  {
   "cell_type": "markdown",
   "id": "a3f18b67",
   "metadata": {},
   "source": [
    "Ahora, vamos a ver con el caso 2 de nuestro curso (corruption data) cómo se corre una regresión múltiple."
   ]
  },
  {
   "cell_type": "code",
   "execution_count": null,
   "id": "695b688e",
   "metadata": {},
   "outputs": [],
   "source": [
    "df = pd.read_excel('corruption_dataset.xlsx')\n",
    "df = df.rename(columns={'Important to be loyal to friends and devote to people close':'L2F'})\n",
    "df.head()"
   ]
  },
  {
   "cell_type": "code",
   "execution_count": null,
   "id": "4c6d5fe4",
   "metadata": {},
   "outputs": [],
   "source": [
    "df2 = df[['country', 'L2F', 'CPI', 'GDP per capita (current US$)']]\n",
    "df2.tail()"
   ]
  },
  {
   "cell_type": "code",
   "execution_count": null,
   "id": "36255f4f",
   "metadata": {},
   "outputs": [],
   "source": [
    "X = df2[['L2F', 'GDP per capita (current US$)']]\n",
    "Y = df2['CPI']"
   ]
  },
  {
   "cell_type": "code",
   "execution_count": null,
   "id": "5ea9dcc1",
   "metadata": {},
   "outputs": [],
   "source": [
    "import statsmodels.api as sm"
   ]
  },
  {
   "cell_type": "code",
   "execution_count": null,
   "id": "a5fe0213",
   "metadata": {},
   "outputs": [],
   "source": [
    "model = sm.OLS(Y, X).fit()"
   ]
  },
  {
   "cell_type": "code",
   "execution_count": null,
   "id": "27362874",
   "metadata": {},
   "outputs": [],
   "source": [
    "model.summary()"
   ]
  },
  {
   "cell_type": "markdown",
   "id": "533e1e89",
   "metadata": {},
   "source": [
    "## Interpretación de los resultados:\n",
    "El modelo de regresión que acabamos de correr nos indica que una gran proporción de la varianza del índice de percepción de corrupción (CPI) resulta explicado por la lealtad que se le tiene a los amigos y familiares dentro de la sociedad (L2F). Más concretamente, el modelo mostró un índice de explicación bien elevado ($R^2_{adj}$ = 0.969; F = 366.3; p = 4.72e-17). No obstante, entre las dos variables predictoras, puede observarse que tanto la lealtad a los amigos y familiares (L2F) como el producto interno bruto per capita (GDP per capita (current US$\\$$)) resultaron ser variables que estadísticamente contribuyen a la explicación de la variabilidad observada de CPI. La estimación estadística del coeficiente que estima la relación entre L2F y CPI resultó ser significativa (coef = 1.7439, std err = 0.238, t = 7.338, p = 0.000) al igual que la estimación estadística del coeficiente para la relación entre GDP per capita (current US$) y CPI (coef = 0.0001, std err = 1.33e-05, t = 8.377, p = 0.000)."
   ]
  },
  {
   "cell_type": "code",
   "execution_count": null,
   "id": "47cb2372",
   "metadata": {},
   "outputs": [],
   "source": [
    "import statsmodels.api as sm\n",
    "import matplotlib.pyplot as plt\n",
    "import statsmodels.formula.api as smf\n",
    "results = smf.ols('CPI ~ L2F*GDP per capita (current US$)', data=df2)\n",
    "fitted_model=results.fit()\n",
    "fitted_model.summary()\n",
    "fig = plt.figure(figsize=(8, 6))\n",
    "results = smf.ols('CPI ~ L2F*GDP per capita (current US$)', data=df2).fit()\n",
    "sm.graphics.plot_regress_exog(results, 'L2F', fig=fig)\n"
   ]
  },
  {
   "cell_type": "code",
   "execution_count": null,
   "id": "92e78031",
   "metadata": {},
   "outputs": [],
   "source": [
    "df2 = df2.rename(columns={'GDP per capita (current US$)':'GDPpc'})\n",
    "df2.tail()"
   ]
  },
  {
   "cell_type": "code",
   "execution_count": null,
   "id": "12ad2387",
   "metadata": {},
   "outputs": [],
   "source": [
    "results = smf.ols('CPI ~ L2F * GDPpc', data=df2)\n",
    "fitted_model=results.fit()\n",
    "fitted_model.summary()\n"
   ]
  },
  {
   "cell_type": "code",
   "execution_count": null,
   "id": "e7beb11c",
   "metadata": {},
   "outputs": [],
   "source": [
    "fig = plt.figure(figsize=(8, 6))\n",
    "results = smf.ols('CPI ~ L2F * GDPpc', data=df2).fit()\n",
    "sm.graphics.plot_regress_exog(results, 'L2F', fig=fig)"
   ]
  },
  {
   "cell_type": "markdown",
   "id": "6a849ecc",
   "metadata": {},
   "source": [
    "Taller por evaluar:\n",
    "Ahora que ya ha tenido una exposición práctica a la implementación del análisis de regresión con el ejemplo anterior, usted debe:\n",
    "\n",
    "1. Realizar un modelo en el que incluya tres variables independientes dejando CPI como variable dependiente.\n",
    "2. Corra cualquiera de las dos sintaxis de ejemplo e interprete los resultados.\n",
    "3. Para que usted tenga una evaluación de este ejercicio, usted debe enviar por correo este jupyter notebook con su nombre antes de las 11:00 am del 29 de Septiembre de 2021 "
   ]
  }
 ],
 "metadata": {
  "kernelspec": {
   "display_name": "Python 3",
   "language": "python",
   "name": "python3"
  },
  "language_info": {
   "codemirror_mode": {
    "name": "ipython",
    "version": 3
   },
   "file_extension": ".py",
   "mimetype": "text/x-python",
   "name": "python",
   "nbconvert_exporter": "python",
   "pygments_lexer": "ipython3",
   "version": "3.8.8"
  }
 },
 "nbformat": 4,
 "nbformat_minor": 5
}
