{
 "cells": [
  {
   "cell_type": "markdown",
   "id": "b5dd4b1b",
   "metadata": {},
   "source": [
    "# Herramientas Útiles para Minería de Datos "
   ]
  },
  {
   "cell_type": "markdown",
   "id": "a0e13ef1",
   "metadata": {},
   "source": [
    "## Herramienta 1: Cambiarle el nombre a una columna\n",
    "Se usa cuando se necesita acortar el nombre de una columna en una base de datos. Veamos."
   ]
  },
  {
   "cell_type": "code",
   "execution_count": null,
   "id": "0f9fb14f",
   "metadata": {},
   "outputs": [],
   "source": [
    "import pandas as pd\n",
    "df = pd.read_excel('corruption_dataset.xlsx')\n",
    "df.head()"
   ]
  },
  {
   "cell_type": "code",
   "execution_count": null,
   "id": "3e6745f7",
   "metadata": {},
   "outputs": [],
   "source": [
    "datos = df.rename(columns={'Important to be loyal to friends and devote to people close':'L2F'})\n",
    "datos.head()"
   ]
  },
  {
   "cell_type": "markdown",
   "id": "45cf094d",
   "metadata": {},
   "source": [
    "## Herramienta 2: Cambiar el registro de una observación en una o más celdas\n",
    "Esta utilidad nos permite arreglar o acomodar imprecisiones o errores, o simplemente re-expresar los registros de una manera diferente a como se encuentran originalmente en la base de datos. Ejemplo:"
   ]
  },
  {
   "cell_type": "code",
   "execution_count": null,
   "id": "3e02196f",
   "metadata": {},
   "outputs": [],
   "source": [
    "df.at[0,'country']='Austria'"
   ]
  },
  {
   "cell_type": "code",
   "execution_count": null,
   "id": "96807cae",
   "metadata": {},
   "outputs": [],
   "source": [
    "df.head()"
   ]
  },
  {
   "cell_type": "markdown",
   "id": "d4d8d447",
   "metadata": {},
   "source": [
    "## Herramienta 3: Eliminar las columnas que no son relevantes para el estudio\n",
    "Esto ayuda mucho a no perder el tiempo viendo variables o datos que no son estrictamente relevantes para el reporte que se quiere hacer. Ejemplo:"
   ]
  },
  {
   "cell_type": "code",
   "execution_count": null,
   "id": "c45225d0",
   "metadata": {},
   "outputs": [],
   "source": [
    "datos2 = datos[['country', 'L2F', 'CPI', 'GDP per capita (current US$)']]\n",
    "datos2.tail()"
   ]
  },
  {
   "cell_type": "markdown",
   "id": "143153f5",
   "metadata": {},
   "source": [
    "## Herramienta 4: Guardar las modificaciones de las tablas con nombres diferentes. \n",
    "(Se ha dado cuenta cuántas tablas hemos generado hasta este momento?). Abra una nueva celda debajo de esta celda y escriba ahi cuántas nuevas tablas se han creado hasta el momento."
   ]
  },
  {
   "cell_type": "markdown",
   "id": "fb80b4ea",
   "metadata": {},
   "source": [
    "## Herramienta 5: Reconocer todas las variables de una base de datos\n",
    "Esto es fundamental para saber si algunas variables están o no presentes en una base de datos y en caso de no estar disponibles, saber identificar en qué otra base de datos podrían encontrarse."
   ]
  },
  {
   "cell_type": "code",
   "execution_count": null,
   "id": "2a0310de",
   "metadata": {},
   "outputs": [],
   "source": [
    "datos.info()"
   ]
  },
  {
   "cell_type": "markdown",
   "id": "b3a701d1",
   "metadata": {},
   "source": [
    "## Herramienta 6: Eliminar filas innecesarias\n",
    "Esto sirve para hacer que una tabla de datos coincida con otra en cuanto al número exacto de filas y registros en al menos una variable. Ejemplo:\n"
   ]
  },
  {
   "cell_type": "code",
   "execution_count": null,
   "id": "8ce9ce8f",
   "metadata": {},
   "outputs": [],
   "source": [
    "df2 = pd.read_excel('corruption_dataset.xlsx', sheet_name=2)\n",
    "df2"
   ]
  },
  {
   "cell_type": "code",
   "execution_count": null,
   "id": "4488e9c9",
   "metadata": {},
   "outputs": [],
   "source": [
    "df2.drop([3,4,15,23,26,27])"
   ]
  },
  {
   "cell_type": "markdown",
   "id": "c85f46e6",
   "metadata": {},
   "source": [
    "## Herramienta 7: Explorar visualmente las variables\n",
    "Esto es fundamental para conocer el comportamiento estadístico de cada variable individual o de una variable con relación a otra(s) variable(s). Acá lo ideal es que todas las variables relevantes se encuentren dentro de una única tabla de datos, en lugar de tenerlas dispersas. Para esto podemos aplicar las sintaxis de las librerías matplotlib o seaborn que hemos estudiado en otras clases."
   ]
  }
 ],
 "metadata": {
  "kernelspec": {
   "display_name": "Python 3",
   "language": "python",
   "name": "python3"
  },
  "language_info": {
   "codemirror_mode": {
    "name": "ipython",
    "version": 3
   },
   "file_extension": ".py",
   "mimetype": "text/x-python",
   "name": "python",
   "nbconvert_exporter": "python",
   "pygments_lexer": "ipython3",
   "version": "3.8.8"
  }
 },
 "nbformat": 4,
 "nbformat_minor": 5
}
